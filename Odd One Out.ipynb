{
 "cells": [
  {
   "cell_type": "code",
   "execution_count": 4,
   "metadata": {},
   "outputs": [],
   "source": [
    "#import reqd libraries\n",
    "#Gensim contains the word2vec model\n",
    "#Word2Vec is a pre trained model from google which contains a 300 sized vector for each of the 50 billion words\n",
    "from gensim.models import word2vec,KeyedVectors\n",
    "#Cosine similarity is used to calculate the similarity between two words(it is 1 for same words)\n",
    "from sklearn.metrics.pairwise import cosine_similarity\n",
    "import numpy as np"
   ]
  },
  {
   "cell_type": "code",
   "execution_count": 7,
   "metadata": {},
   "outputs": [],
   "source": [
    "#we load the dataset which contains word vectors of 50 billion words\n",
    "#GoogleNews-vectors-negative300.bin is the dataset file\n",
    "word_vectors=KeyedVectors.load_word2vec_format('GoogleNews-vectors-negative300.bin',binary=True)"
   ]
  },
  {
   "cell_type": "code",
   "execution_count": 8,
   "metadata": {},
   "outputs": [],
   "source": [
    "#To find the odd word we create word vectors of all the words and then create an average vector of all these vectors\n",
    "#Similar words will be close to the average vector and odd word will be least similar to average vector\n",
    "#cosine similarity accepts 2D array so we put the vector in a list\n",
    "def FindOddWords(words):\n",
    "    all_word_vectors=[word_vectors[w] for w in words]\n",
    "    avg_vector=np.mean(all_word_vectors,axis=0)\n",
    "    odd=None\n",
    "    min_sim=1.0\n",
    "    for w in words:\n",
    "        sim=cosine_similarity([word_vectors[w]],[avg_vector])\n",
    "        if sim<=min_sim:\n",
    "            min_sim=sim\n",
    "            odd=w\n",
    "    return odd"
   ]
  },
  {
   "cell_type": "code",
   "execution_count": 9,
   "metadata": {},
   "outputs": [
    {
     "data": {
      "text/plain": [
       "'party'"
      ]
     },
     "execution_count": 9,
     "metadata": {},
     "output_type": "execute_result"
    }
   ],
   "source": [
    "input_1=[\"apple\",'mango','party','juice','orange']\n",
    "FindOddWords(input_1)"
   ]
  },
  {
   "cell_type": "code",
   "execution_count": null,
   "metadata": {},
   "outputs": [],
   "source": [
    " "
   ]
  }
 ],
 "metadata": {
  "kernelspec": {
   "display_name": "Python 3",
   "language": "python",
   "name": "python3"
  },
  "language_info": {
   "codemirror_mode": {
    "name": "ipython",
    "version": 3
   },
   "file_extension": ".py",
   "mimetype": "text/x-python",
   "name": "python",
   "nbconvert_exporter": "python",
   "pygments_lexer": "ipython3",
   "version": "3.8.7"
  }
 },
 "nbformat": 4,
 "nbformat_minor": 4
}
